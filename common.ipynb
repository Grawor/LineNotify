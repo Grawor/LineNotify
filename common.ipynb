{
 "cells": [
  {
   "cell_type": "code",
   "execution_count": 1,
   "metadata": {},
   "outputs": [],
   "source": [
    "\"\"\"\n",
    "@brief : \n",
    "@note  : \n",
    "\"\"\"\n",
    "\n",
    "#!/usr/bin/python3\n",
    "# -*- coding: utf-8 -*-\n",
    "import os\n",
    "import requests\n",
    "import pandas as pd\n",
    "\n",
    "class Common():\n",
    "\n",
    "    def __init__(self):\n",
    "        self.token = ''\n",
    "\n",
    "    \"\"\"\n",
    "    @brief : ライントークンをセット\n",
    "    @note  : ①set_line_token ②line_notify の順に実行\n",
    "    \"\"\"\n",
    "    def set_line_token(self, file_name, row, col):\n",
    "        \n",
    "        if os.path.exists(file_name):\n",
    "            #print(file_name)\n",
    "            csv_input = pd.read_csv(file_name)\n",
    "            #print(csv_input)\n",
    "            self.token = csv_input.values[row, col]\n",
    "        else:\n",
    "            print(file_name + \" が存在しません。\")\n",
    "\n",
    "    \"\"\"\n",
    "    @brief : ラインにメッセージを送信\n",
    "    @note  : ①set_line_token ②line_notify の順に実行\n",
    "    \"\"\"        \n",
    "    def line_notify(self, message):\n",
    "        line_notify_token = self.token\n",
    "        line_notify_api = \"https://notify-api.line.me/api/notify\"\n",
    "        payload = {\"message\": message}\n",
    "        headers = {\"Authorization\": \"Bearer \" + line_notify_token} \n",
    "        requests.post(line_notify_api, data=payload, headers=headers)\n",
    "\n",
    "    \"\"\"\n",
    "    @brief : 指定したCSVの値を取得\n",
    "    @note  : CSVファイルの1行目はカラム名データとなるため、\n",
    "             2行目からのデータが取得可能なことに注意\n",
    "    \"\"\"        \n",
    "    def get_csv_val(self, file_name, row, col):\n",
    "\n",
    "        if os.path.exists(file_name):\n",
    "            csv_input = pd.read_csv(file_name)\n",
    "            return csv_input.values[row, col]\n",
    "        else:\n",
    "            print(file_name + \" が存在しません。\")\n"
   ]
  },
  {
   "cell_type": "code",
   "execution_count": 2,
   "metadata": {},
   "outputs": [
    {
     "name": "stdout",
     "output_type": "stream",
     "text": [
      "../key.csva が存在しません。\n",
      "None\n"
     ]
    }
   ],
   "source": [
    "# Debug用で作成\n",
    "#file_name = \"../key.csv\"\n",
    "#common = Common()\n",
    "#common.set_line_token(file_name, 0, 1)\n",
    "#val = common.get_csv_val(file_name,0,0)\n",
    "#print(val)\n",
    "#common.line_notify(\"test\")"
   ]
  }
 ],
 "metadata": {
  "celltoolbar": "Raw Cell Format",
  "kernelspec": {
   "display_name": "Python 3",
   "language": "python",
   "name": "python3"
  },
  "language_info": {
   "codemirror_mode": {
    "name": "ipython",
    "version": 3
   },
   "file_extension": ".py",
   "mimetype": "text/x-python",
   "name": "python",
   "nbconvert_exporter": "python",
   "pygments_lexer": "ipython3",
   "version": "3.7.0"
  }
 },
 "nbformat": 4,
 "nbformat_minor": 2
}
